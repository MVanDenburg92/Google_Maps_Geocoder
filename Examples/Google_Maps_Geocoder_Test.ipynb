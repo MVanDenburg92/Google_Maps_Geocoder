{
 "cells": [
  {
   "cell_type": "code",
   "execution_count": 1,
   "metadata": {},
   "outputs": [
    {
     "name": "stdout",
     "output_type": "stream",
     "text": [
      "Successfully retrieved results for address: 820 Wellington Road,Clayton,VIC\n",
      "Successfully retrieved results for address: 101 Collins Street,Melbourne,VIC\n",
      "Successfully retrieved results for address: 211C Wellington Road,Mulgrave,VIC\n",
      "Successfully retrieved results for address: 405 Bd Armand - Frappier,Laval,QC\n",
      "Successfully retrieved results for address: 155 Wellington Street West,Toronto,ON\n",
      "Successfully retrieved results for address: Building 2, No. 288, Xinfu Road, Minhang District,Shanghai,Shanghai\n",
      "Successfully retrieved results for address: Level 9, Tower 2, China Central Place, No.79 Jianguo Road, Chaoyang District,Beijing,Beijing\n",
      "Successfully retrieved results for address: 19 Rue Cognacq-Jay,Paris,Ile-de-France\n",
      "Successfully retrieved results for address: Brienner Strasse 45 a-d,Munich,Bavaria\n",
      "Successfully retrieved results for address: Via Vittorio Veneto 54b,Rome\n",
      "Successfully retrieved results for address: 4 Chome-1-1 Toranomon,Tokyo\n",
      "Successfully retrieved results for address: 2-3-8 Shinkiba, Koto-ku,Tokyo\n",
      "Successfully retrieved results for address: 2-3-8 Shinkiba, Koto-ku,Tokyo\n",
      "Successfully retrieved results for address: 2-26-1 Muraokahigashi,Fujisawa,Kanagawa\n",
      "Successfully retrieved results for address: Eldama Ravine Road,Nairobi\n",
      "Successfully retrieved results for address: 165, Convensia-daero,Incheon\n",
      "Successfully retrieved results for address: Claude Debussylaan 7,Amsterdam\n",
      "Successfully retrieved results for address: Rondo Daszynskiego 1,Warsaw\n",
      "Successfully retrieved results for address: 29c-31, Julian Camarillo St,Madrid,Spain\n",
      "Successfully retrieved results for address: Calle Príncipe de Vergara, 132,Madrid\n",
      "Successfully retrieved results for address: Avenida del Conocimiento 41,Granada\n",
      "Successfully retrieved results for address: Peter Merian Weg 10,Basel\n",
      "Successfully retrieved results for address: Elias-Canetti-Strasse 2,Zurich\n",
      "Successfully retrieved results for address: No. 7, Section 5, Xinyi Road,Taipei\n",
      "Successfully retrieved results for address: 123 Victoria Street,London\n",
      "Successfully retrieved results for address: Campus, Rutherford Avenue,Didcot,Oxfordshire\n",
      "Successfully retrieved results for address: Harwell Science and Innovation Campus,Didcot,Oxfordshire\n",
      "Successfully retrieved results for address: Harwell Science and Innovation Campus, Harwell,Didcot\n",
      "Successfully retrieved results for address: 325 Binney Street,Cambridge,MA\n",
      "Successfully retrieved results for address: 149 Hayes Memorial Drive,Marlborough,MA\n",
      "Successfully retrieved results for address: 1 Moderna Way,Norwood,MA\n",
      "Successfully retrieved results for address: One Moderna Way,Norwood,MA\n",
      "Successfully retrieved results for address: 65 Shawmut Road,Canton,MA\n",
      "Successfully retrieved results for address: MTC-E 1 Investors Way,Norwood,MA\n",
      "Successfully retrieved results for address: 1 Investors Way,Norwood,MA\n",
      "Successfully retrieved results for address: 1099 Stewart Street,Seattle,WA\n",
      "Successfully retrieved results for address: MTC-S 1 Moderna Way,Norwood,MA\n",
      "Successfully retrieved results for address: 80 Blanchard Road,Burlington,MA\n",
      "Successfully retrieved results for address: 100 - 210 Rustcraft Road,Dedham,MA\n",
      "Successfully retrieved results for address: MTC-S 1 Moderna Way,Norwood,MA\n",
      "Successfully retrieved results for address: 5 Vaughn Drive,Princeton,NJ\n",
      "Successfully retrieved results for address: 7550 Wisconsin Avenue,Bethesda,MD\n",
      "Successfully retrieved results for address: 200 Technology Square,Cambridge,MA\n",
      "Successfully retrieved results for address: 211 Second Avenue,Waltham,MA\n",
      "Successfully retrieved results for address: 700 Gateway Boulevard,South San Francisco,CA\n",
      "Successfully retrieved results for address: 293 Boston Post Road,Marlborough,MA\n",
      "Successfully retrieved results for address: 1 Investors Way,Norwood,MA\n",
      "Successfully retrieved results for address: 1099 Stewart Street,Seattle,WA\n"
     ]
    }
   ],
   "source": [
    "from google_maps_geocoder.geocoder import GoogleGeocoder\n",
    "import pandas as pd\n",
    "import os\n",
    "\n",
    "# Initialize the GoogleGeocoder\n",
    "api_key = os.getenv(\"GOOGLE_API_KEY\")\n",
    "geocoder = GoogleGeocoder(api_key)\n",
    "\n",
    "# Load the dataset\n",
    "input_data = pd.read_csv(r\"C:\\Users\\Miles.Vandenburg\\Documents\\Moderna Portfolio Summary 12.4.2024 (1).csv\")\n",
    "\n",
    "# Clean and prepare the data\n",
    "destinations, needs_geocoding = geocoder.cleanup_pd(input_data)\n",
    "\n",
    "# Perform geocoding\n",
    "if needs_geocoding:\n",
    "    final_dest_df = geocoder.geocode_addresses(destinations, needs_geocoding)\n",
    "    final_dest_df.to_csv('geocoded_results.csv', index=False)\n",
    "else:\n",
    "    print(\"Data already contains coordinates.\")\n"
   ]
  },
  {
   "cell_type": "code",
   "execution_count": null,
   "metadata": {},
   "outputs": [],
   "source": []
  }
 ],
 "metadata": {
  "kernelspec": {
   "display_name": "Python 3",
   "language": "python",
   "name": "python3"
  },
  "language_info": {
   "codemirror_mode": {
    "name": "ipython",
    "version": 3
   },
   "file_extension": ".py",
   "mimetype": "text/x-python",
   "name": "python",
   "nbconvert_exporter": "python",
   "pygments_lexer": "ipython3",
   "version": "3.13.0"
  }
 },
 "nbformat": 4,
 "nbformat_minor": 2
}
