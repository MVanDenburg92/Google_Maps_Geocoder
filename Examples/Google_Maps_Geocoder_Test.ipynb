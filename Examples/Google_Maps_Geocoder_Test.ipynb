{
 "cells": [
  {
   "cell_type": "markdown",
   "metadata": {},
   "source": [
    "# Using Google Geocoder"
   ]
  },
  {
   "cell_type": "code",
   "execution_count": null,
   "metadata": {},
   "outputs": [],
   "source": [
    "from google_maps_geocoder.geocoder import GoogleGeocoder\n",
    "import pandas as pd\n",
    "import os\n",
    "\n",
    "# Initialize the GoogleGeocoder\n",
    "api_key = os.getenv(\"GOOGLE_API_KEY\")\n",
    "geocoder = GoogleGeocoder(api_key)\n",
    "\n",
    "# Load the dataset\n",
    "input_data = pd.read_csv(r\"C:\\Users\\Miles.Vandenburg\\Downloads\\Meta_DataCenters.csv\")\n",
    "\n",
    "# Clean and prepare the data\n",
    "destinations, needs_geocoding = geocoder.cleanup_pd(input_data)\n",
    "\n",
    "# Perform geocoding\n",
    "if needs_geocoding:\n",
    "    final_dest_df = geocoder.geocode_addresses(destinations, needs_geocoding)\n",
    "    final_dest_df.to_csv('geocoded_results.csv', index=False)\n",
    "else:\n",
    "    print(\"Data already contains coordinates.\")\n",
    "\n",
    "# tef = geocoder.geocode_single('1099 Stewart Street,Seattle,WA')\n",
    "# # df = pd.json_normalize(tef)\n",
    "# tef\n"
   ]
  },
  {
   "cell_type": "markdown",
   "metadata": {},
   "source": [
    "# Using Signed Signature"
   ]
  },
  {
   "cell_type": "code",
   "execution_count": 1,
   "metadata": {},
   "outputs": [
    {
     "name": "stdout",
     "output_type": "stream",
     "text": [
      "C:\\Users\\Miles.Vandenburg\\Documents\\C&W\\Client_Work\\McKesson\\2025\\0625-CommuteDashboards-BULK\\Shanghai\n",
      "<bound method NDFrame.describe of   Location ID                                       Work Address Work City\n",
      "0        A415  Shanghai, CHN - Suite D 7F Development Bank To...  Shanghai>\n",
      "Original columns: Index(['Location ID', 'Work Address', 'Work City'], dtype='object')\n",
      "Post-cleanup columns: Index(['Location ID', 'Work Address', 'Work City', 'ADDRESS_FULL'], dtype='object')\n",
      "Loaded 1 records from C:\\Users\\Miles.Vandenburg\\Documents\\C&W\\Client_Work\\McKesson\\2025\\0625-CommuteDashboards-BULK\\Shanghai\\Shanghai_Work.csv\n",
      "Signed URLs have been saved to signed_urls.csv\n",
      "Processing 1 URLs with parallel processing...\n",
      "Processed 1/1 URLs\n",
      "Successfully joined 1 records\n",
      "Combined data saved to C:\\Users\\Miles.Vandenburg\\Documents\\C&W\\Client_Work\\McKesson\\2025\\0625-CommuteDashboards-BULK\\Shanghai\\results\\geocoded_results_signed_url.csv\n",
      "Google geocoding results have been saved to geocoded_results_signed_url.csv\n"
     ]
    },
    {
     "data": {
      "application/vnd.microsoft.datawrangler.viewer.v0+json": {
       "columns": [
        {
         "name": "index",
         "rawType": "int64",
         "type": "integer"
        },
        {
         "name": "formatted_address",
         "rawType": "object",
         "type": "string"
        },
        {
         "name": "latitude",
         "rawType": "float64",
         "type": "float"
        },
        {
         "name": "longitude",
         "rawType": "float64",
         "type": "float"
        },
        {
         "name": "accuracy",
         "rawType": "object",
         "type": "string"
        },
        {
         "name": "google_place_id",
         "rawType": "object",
         "type": "string"
        },
        {
         "name": "type",
         "rawType": "object",
         "type": "string"
        },
        {
         "name": "postcode",
         "rawType": "object",
         "type": "string"
        },
        {
         "name": "number_of_results",
         "rawType": "int64",
         "type": "integer"
        },
        {
         "name": "status",
         "rawType": "object",
         "type": "string"
        },
        {
         "name": "Site_Number",
         "rawType": "int64",
         "type": "integer"
        },
        {
         "name": "Location ID",
         "rawType": "object",
         "type": "string"
        },
        {
         "name": "Work Address",
         "rawType": "object",
         "type": "string"
        },
        {
         "name": "Work City",
         "rawType": "object",
         "type": "string"
        },
        {
         "name": "ADDRESS_FULL",
         "rawType": "object",
         "type": "string"
        }
       ],
       "ref": "d39cdcde-e495-438a-8233-0ea9e9e31a8a",
       "rows": [
        [
         "0",
         "Shanghai, China",
         "31.230416",
         "121.473701",
         "APPROXIMATE",
         "ChIJMzz1sUBwsjURoWTDI5QSlQI",
         "locality,political",
         "",
         "1",
         "OK",
         "1",
         "A415",
         "Shanghai, CHN - Suite D 7F Development Bank Tower (A415)",
         "Shanghai",
         "Shanghai, CHN - Suite D 7F Development Bank Tower (A415),Shanghai"
        ]
       ],
       "shape": {
        "columns": 14,
        "rows": 1
       }
      },
      "text/html": [
       "<div>\n",
       "<style scoped>\n",
       "    .dataframe tbody tr th:only-of-type {\n",
       "        vertical-align: middle;\n",
       "    }\n",
       "\n",
       "    .dataframe tbody tr th {\n",
       "        vertical-align: top;\n",
       "    }\n",
       "\n",
       "    .dataframe thead th {\n",
       "        text-align: right;\n",
       "    }\n",
       "</style>\n",
       "<table border=\"1\" class=\"dataframe\">\n",
       "  <thead>\n",
       "    <tr style=\"text-align: right;\">\n",
       "      <th></th>\n",
       "      <th>formatted_address</th>\n",
       "      <th>latitude</th>\n",
       "      <th>longitude</th>\n",
       "      <th>accuracy</th>\n",
       "      <th>google_place_id</th>\n",
       "      <th>type</th>\n",
       "      <th>postcode</th>\n",
       "      <th>number_of_results</th>\n",
       "      <th>status</th>\n",
       "      <th>Site_Number</th>\n",
       "      <th>Location ID</th>\n",
       "      <th>Work Address</th>\n",
       "      <th>Work City</th>\n",
       "      <th>ADDRESS_FULL</th>\n",
       "    </tr>\n",
       "  </thead>\n",
       "  <tbody>\n",
       "    <tr>\n",
       "      <th>0</th>\n",
       "      <td>Shanghai, China</td>\n",
       "      <td>31.230416</td>\n",
       "      <td>121.473701</td>\n",
       "      <td>APPROXIMATE</td>\n",
       "      <td>ChIJMzz1sUBwsjURoWTDI5QSlQI</td>\n",
       "      <td>locality,political</td>\n",
       "      <td></td>\n",
       "      <td>1</td>\n",
       "      <td>OK</td>\n",
       "      <td>1</td>\n",
       "      <td>A415</td>\n",
       "      <td>Shanghai, CHN - Suite D 7F Development Bank To...</td>\n",
       "      <td>Shanghai</td>\n",
       "      <td>Shanghai, CHN - Suite D 7F Development Bank To...</td>\n",
       "    </tr>\n",
       "  </tbody>\n",
       "</table>\n",
       "</div>"
      ],
      "text/plain": [
       "  formatted_address   latitude   longitude     accuracy  \\\n",
       "0   Shanghai, China  31.230416  121.473701  APPROXIMATE   \n",
       "\n",
       "               google_place_id                type postcode  \\\n",
       "0  ChIJMzz1sUBwsjURoWTDI5QSlQI  locality,political            \n",
       "\n",
       "   number_of_results status  Site_Number Location ID  \\\n",
       "0                  1     OK            1        A415   \n",
       "\n",
       "                                        Work Address Work City  \\\n",
       "0  Shanghai, CHN - Suite D 7F Development Bank To...  Shanghai   \n",
       "\n",
       "                                        ADDRESS_FULL  \n",
       "0  Shanghai, CHN - Suite D 7F Development Bank To...  "
      ]
     },
     "execution_count": 1,
     "metadata": {},
     "output_type": "execute_result"
    }
   ],
   "source": [
    "# Import necessary function\n",
    "from google_maps_geocoder.geocode_signed_url import signed_url_geocode\n",
    "import os\n",
    "from concurrent.futures import ThreadPoolExecutor\n",
    "\n",
    "private_key = os.getenv(\"GOOGLE_MAPS_PRIVATE_KEY\")\n",
    "if not private_key:\n",
    "    raise ValueError(\"GOOGLE_MAPS_PRIVATE_KEY is not set in the environment.\")\n",
    "# Define parameters\n",
    "input_file = r\"C:\\Users\\Miles.Vandenburg\\Documents\\C&W\\Client_Work\\McKesson\\2025\\0625-CommuteDashboards-BULK\\Shanghai\\Shanghai_Work.csv\"\n",
    "output_file = 'geocoded_results_signed_url.csv'\n",
    "base_url = \"http://maps.googleapis.com/maps/api/geocode/json\"\n",
    "client = \"gme-cushmanwakefield\"\n",
    "channel = \"GBC\"\n",
    "# Run the script\n",
    "signed_url_geocode(input_file, output_file, private_key, base_url, client, channel, geocode_only = False,limit=None)\n"
   ]
  },
  {
   "cell_type": "code",
   "execution_count": null,
   "metadata": {},
   "outputs": [],
   "source": []
  }
 ],
 "metadata": {
  "kernelspec": {
   "display_name": "3.13.0",
   "language": "python",
   "name": "python3"
  },
  "language_info": {
   "codemirror_mode": {
    "name": "ipython",
    "version": 3
   },
   "file_extension": ".py",
   "mimetype": "text/x-python",
   "name": "python",
   "nbconvert_exporter": "python",
   "pygments_lexer": "ipython3",
   "version": "3.13.0"
  }
 },
 "nbformat": 4,
 "nbformat_minor": 2
}
