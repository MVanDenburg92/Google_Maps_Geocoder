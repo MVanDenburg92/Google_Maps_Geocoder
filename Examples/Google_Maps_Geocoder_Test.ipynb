{
 "cells": [
  {
   "cell_type": "code",
   "execution_count": 1,
   "metadata": {},
   "outputs": [
    {
     "name": "stdout",
     "output_type": "stream",
     "text": [
      "Successfully retrieved results for address: 123 Maple St,Boston,MA,2110\n",
      "Successfully retrieved results for address: 456 Oak Ave,New York,NY,10001\n",
      "Successfully retrieved results for address: 789 Pine Rd,Chicago,IL,60601\n",
      "Successfully retrieved results for address: 101 Birch Blvd,San Francisco,CA,94105\n",
      "Successfully retrieved results for address: 202 Cedar Ln,Los Angeles,CA,90001\n",
      "Successfully retrieved results for address: 303 Elm St,Seattle,WA,98101\n",
      "Successfully retrieved results for address: 404 Walnut Dr,Denver,CO,80202\n",
      "Successfully retrieved results for address: 505 Redwood Way,Austin,TX,73301\n",
      "Successfully retrieved results for address: 606 Ash St,Miami,FL,33101\n",
      "Successfully retrieved results for address: 707 Palm Ave,San Diego,CA,92101\n",
      "Successfully retrieved results for address: 1099 Stewart Street,Seattle,WA\n"
     ]
    },
    {
     "data": {
      "text/html": [
       "<div>\n",
       "<style scoped>\n",
       "    .dataframe tbody tr th:only-of-type {\n",
       "        vertical-align: middle;\n",
       "    }\n",
       "\n",
       "    .dataframe tbody tr th {\n",
       "        vertical-align: top;\n",
       "    }\n",
       "\n",
       "    .dataframe thead th {\n",
       "        text-align: right;\n",
       "    }\n",
       "</style>\n",
       "<table border=\"1\" class=\"dataframe\">\n",
       "  <thead>\n",
       "    <tr style=\"text-align: right;\">\n",
       "      <th></th>\n",
       "      <th>formatted_address</th>\n",
       "      <th>latitude</th>\n",
       "      <th>longitude</th>\n",
       "      <th>accuracy</th>\n",
       "      <th>google_place_id</th>\n",
       "      <th>type</th>\n",
       "      <th>postcode</th>\n",
       "      <th>input_string</th>\n",
       "      <th>number_of_results</th>\n",
       "      <th>status</th>\n",
       "      <th>response</th>\n",
       "    </tr>\n",
       "  </thead>\n",
       "  <tbody>\n",
       "    <tr>\n",
       "      <th>0</th>\n",
       "      <td>1099 Stewart St, Seattle, WA 98101, USA</td>\n",
       "      <td>47.616661</td>\n",
       "      <td>-122.332716</td>\n",
       "      <td>ROOFTOP</td>\n",
       "      <td>ChIJgdY5t4oVkFQRMfVIB7Js_4s</td>\n",
       "      <td>street_address</td>\n",
       "      <td>98101</td>\n",
       "      <td>1099 Stewart Street,Seattle,WA</td>\n",
       "      <td>1</td>\n",
       "      <td>OK</td>\n",
       "      <td>None</td>\n",
       "    </tr>\n",
       "  </tbody>\n",
       "</table>\n",
       "</div>"
      ],
      "text/plain": [
       "                         formatted_address   latitude   longitude accuracy  \\\n",
       "0  1099 Stewart St, Seattle, WA 98101, USA  47.616661 -122.332716  ROOFTOP   \n",
       "\n",
       "               google_place_id            type postcode  \\\n",
       "0  ChIJgdY5t4oVkFQRMfVIB7Js_4s  street_address    98101   \n",
       "\n",
       "                     input_string  number_of_results status response  \n",
       "0  1099 Stewart Street,Seattle,WA                  1     OK     None  "
      ]
     },
     "execution_count": 1,
     "metadata": {},
     "output_type": "execute_result"
    }
   ],
   "source": [
    "from google_maps_geocoder.geocoder import GoogleGeocoder\n",
    "import pandas as pd\n",
    "import os\n",
    "\n",
    "# Initialize the GoogleGeocoder\n",
    "api_key = os.getenv(\"GOOGLE_API_KEY\")\n",
    "geocoder = GoogleGeocoder(api_key)\n",
    "\n",
    "# Load the dataset\n",
    "input_data = pd.read_csv(r\".\\example_address.csv\")\n",
    "\n",
    "# Clean and prepare the data\n",
    "destinations, needs_geocoding = geocoder.cleanup_pd(input_data)\n",
    "\n",
    "# Perform geocoding\n",
    "if needs_geocoding:\n",
    "    final_dest_df = geocoder.geocode_addresses(destinations, needs_geocoding)\n",
    "    final_dest_df.to_csv('geocoded_results.csv', index=False)\n",
    "else:\n",
    "    print(\"Data already contains coordinates.\")\n",
    "\n",
    "tef = geocoder.geocode_single('1099 Stewart Street,Seattle,WA')\n",
    "# df = pd.json_normalize(tef)\n",
    "tef\n"
   ]
  },
  {
   "cell_type": "code",
   "execution_count": null,
   "metadata": {},
   "outputs": [],
   "source": []
  }
 ],
 "metadata": {
  "kernelspec": {
   "display_name": "Python 3",
   "language": "python",
   "name": "python3"
  },
  "language_info": {
   "codemirror_mode": {
    "name": "ipython",
    "version": 3
   },
   "file_extension": ".py",
   "mimetype": "text/x-python",
   "name": "python",
   "nbconvert_exporter": "python",
   "pygments_lexer": "ipython3",
   "version": "3.13.0"
  }
 },
 "nbformat": 4,
 "nbformat_minor": 2
}
