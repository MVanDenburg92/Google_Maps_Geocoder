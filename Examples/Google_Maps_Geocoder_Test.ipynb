{
 "cells": [
  {
   "cell_type": "markdown",
   "metadata": {},
   "source": [
    "# Using Google Geocoder"
   ]
  },
  {
   "cell_type": "code",
   "execution_count": 2,
   "metadata": {},
   "outputs": [
    {
     "name": "stdout",
     "output_type": "stream",
     "text": [
      "Successfully retrieved results for address: Andrupvej 80,Esbjerg Ã˜\n",
      "Successfully retrieved results for address: Krogslundvej 140,Odense\n",
      "Successfully retrieved results for address: 2 SlÃ­ na gChairde,Clonee\n",
      "Successfully retrieved results for address: Tanjong Kling Rd,Singapore\n",
      "Successfully retrieved results for address: DatavÃ¤gen 15,LuleÃ¥\n",
      "Successfully retrieved results for address: 5400 Prosperity Dr NW,Huntsville,Alabama\n",
      "Successfully retrieved results for address: 5400 Prosperity Dr NW,Huntsville,Alabama\n",
      "Successfully retrieved results for address: 5400 Prosperity Dr NW,Huntsville,Alabama\n",
      "Successfully retrieved results for address: 5400 Prosperity Dr NW,Huntsville,Alabama\n",
      "Successfully retrieved results for address: 5400 Prosperity Dr NW,Huntsville,Alabama\n",
      "Successfully retrieved results for address: 5400 Prosperity Dr NW,Huntsville,Alabama\n",
      "Successfully retrieved results for address: across from Hyundaiâ€™s assembly plant,Montgomery,Alabama\n",
      "Successfully retrieved results for address: 3841 S Ellsworth Rd,Mesa,Arizona\n",
      "Successfully retrieved results for address: 3841 S Ellsworth Rd,Mesa,Arizona\n",
      "Successfully retrieved results for address: 3841 S Ellsworth Rd,Mesa,Arizona\n",
      "Successfully retrieved results for address: 3841 S Ellsworth Rd,Mesa,Arizona\n",
      "Successfully retrieved results for address: 3841 S Ellsworth Rd,Mesa,Arizona\n",
      "Successfully retrieved results for address: 3841 S Ellsworth Rd,Mesa,Arizona\n",
      "Successfully retrieved results for address: 100 Move Fast Way,Social Circle,Georgia\n",
      "Successfully retrieved results for address: 6990 W Kuna-Mora Rd,Kuna,Idaho\n",
      "Successfully retrieved results for address: 1550-2050 Metaverse Wy,DeKalb,Illinois\n",
      "Successfully retrieved results for address: 2050 Metaverse Wy,DeKalb,Illinois\n",
      "Successfully retrieved results for address: 2050 Metaverse Wy,DeKalb,Illinois\n",
      "Successfully retrieved results for address: 1750 Metaverse Wy,DeKalb,Illinois\n",
      "Successfully retrieved results for address: 1750 Metaverse Wy,DeKalb,Illinois\n",
      "Successfully retrieved results for address: 1550 Metaverse Wy,DeKalb,Illinois\n",
      "Successfully retrieved results for address: 1550 Metaverse Wy,DeKalb,Illinois\n",
      "Successfully retrieved results for address: the River Ridge Commerce Center in Jeffersonville,Jeffersonville,Indiana\n",
      "Successfully retrieved results for address: Hillandale Rd \\u0026 Enterprise Way,Davenport,Iowa\n",
      "Successfully retrieved results for address: 100-2500 Share Wy NW,Altoona,Iowa\n",
      "Successfully retrieved results for address: 100 Share Way NW,Altoona,Iowa\n",
      "Successfully retrieved results for address: 2500 Share Wy NW,Altoona,Iowa\n",
      "Successfully retrieved results for address: 200 Share Way NW,Altoona,Iowa\n",
      "Successfully retrieved results for address: 300 Share Way NW,Altoona,Iowa\n",
      "Successfully retrieved results for address: 500 Share Way NW,Altoona,Iowa\n",
      "Successfully retrieved results for address: 500 Share Way NW,Altoona,Iowa\n",
      "Successfully retrieved results for address: 1100 Share Way NW,Altoona,Iowa\n",
      "Successfully retrieved results for address: 1100 Share Way NW,Altoona,Iowa\n",
      "Successfully retrieved results for address: 2000 Share Wy NW,Altoona,Iowa\n",
      "Successfully retrieved results for address: 2500 Share Wy NW,Altoona,Iowa\n",
      "Successfully retrieved results for address: LA-183 \\u0026 Thomas Rd,Rayville,Louisiana\n",
      "Successfully retrieved results for address: east of Dakota County Technical College,Rosemount,Minnesota\n",
      "Successfully retrieved results for address: 1800 NW 128 St ,Kansas City,Missouri\n",
      "Successfully retrieved results for address: 1800 NW 128 St,Kansas City,Missouri\n",
      "Successfully retrieved results for address: 1800 NW 128 St,Kansas City,Missouri\n",
      "Successfully retrieved results for address: 1800 NW 128 St,Kansas City,Missouri\n",
      "Successfully retrieved results for address: 14010-14774 Friend Plz / 13180-13210 Silicon Prairie Plz,Papillion,Nebraska\n",
      "Successfully retrieved results for address: 14774 Friend Plz,Springfield,Nebraska\n",
      "Successfully retrieved results for address: 14734 Friend Plz,Springfield,Nebraska\n",
      "Successfully retrieved results for address: 14734 Friend Plz,Springfield,Nebraska\n",
      "Successfully retrieved results for address: 14010Friend Plz,Springfield,Nebraska\n",
      "Successfully retrieved results for address: 14010 Friend Plz,Springfield,Nebraska\n",
      "Successfully retrieved results for address: 13180 Silicon Prairie Plz,Springfield,Nebraska\n",
      "Successfully retrieved results for address: 13180 Silicon Prairie Plz,Springfield,Nebraska\n",
      "Successfully retrieved results for address: 13210 Silicon Prairie Plz,Springfield,Nebraska\n",
      "Successfully retrieved results for address: 4250 Messenger Lp,Los Lunas,New Mexico\n",
      "Successfully retrieved results for address: Messenger Lp NW,Los Lunas,New Mexico\n",
      "Successfully retrieved results for address: Messenger Lp NW,Los Lunas,New Mexico\n",
      "Successfully retrieved results for address: Messenger Lp NW,Los Lunas,New Mexico\n",
      "Successfully retrieved results for address: Messenger Lp NW,Los Lunas,New Mexico\n",
      "Successfully retrieved results for address: Messenger Lp NW,Los Lunas,New Mexico\n",
      "Successfully retrieved results for address: Messenger Lp NW,Los Lunas,New Mexico\n",
      "Successfully retrieved results for address: Messenger Lp NW,Los Lunas,New Mexico\n",
      "Successfully retrieved results for address: Messenger Lp NW,Los Lunas,New Mexico\n",
      "Successfully retrieved results for address: Messenger Lp NW,Los Lunas,New Mexico\n",
      "Successfully retrieved results for address: Messenger Lp NW,Los Lunas,New Mexico\n",
      "Successfully retrieved results for address: 404 Social Circle,Forest City,North Carolina\n",
      "Successfully retrieved results for address: 480 Social Circle,Forest City,North Carolina\n",
      "Successfully retrieved results for address: 284 Social Circle,Forest City,North Carolina\n",
      "Successfully retrieved results for address: 404 Social Circle,Forest City,North Carolina\n",
      "Successfully retrieved results for address: 1 Community Cir,Etna,Ohio\n",
      "Successfully retrieved results for address: 735 SW Connect Way,Prineville,Oregon\n",
      "Successfully retrieved results for address: 735 SW Connect Way,Prineville,Oregon\n",
      "Successfully retrieved results for address: SW Houston Lake Rd,Prineville,Oregon\n",
      "Successfully retrieved results for address: 735 SW Connect Way,Prineville,Oregon\n",
      "Successfully retrieved results for address: 800 SW Connect Way,Prineville,Oregon\n",
      "Successfully retrieved results for address: SW Houston Lake Rd,Prineville,Oregon\n",
      "Successfully retrieved results for address: SW Houston Lake Rd,Prineville,Oregon\n",
      "Successfully retrieved results for address: 607 Tom McCall Rd,Prineville,Oregon\n",
      "Successfully retrieved results for address: 607 Tom McCall Rd,Prineville,Oregon\n",
      "Successfully retrieved results for address: SW Houston Lake Rd,Prineville,Oregon\n",
      "Successfully retrieved results for address: SW Houston Lake Rd,Prineville,Oregon\n",
      "Successfully retrieved results for address: Sage Mill Pkwy,Graniteville,South Carolina\n",
      "Successfully retrieved results for address: 1 Meta Lp,Gallatin,Tennessee\n",
      "Successfully retrieved results for address: Meta Lp,Gallatin,Tennessee\n",
      "Successfully retrieved results for address: Meta Lp,Gallatin,Tennessee\n",
      "Successfully retrieved results for address: Meta Lp,Gallatin,Tennessee\n",
      "Successfully retrieved results for address: Meta Lp,Gallatin,Tennessee\n",
      "Successfully retrieved results for address: Meta Lp,Gallatin,Tennessee\n",
      "Successfully retrieved results for address: Meta Lp,Gallatin,Tennessee\n",
      "Successfully retrieved results for address: 4500 Like Way,Fort Worth,Texas\n",
      "Successfully retrieved results for address: NW H K Dodgen Loop \\u0026 Industrial Blvd,Temple,Texas\n",
      "Successfully retrieved results for address: 1275-1725 N Community Cir,Eagle Mountain,Utah\n",
      "Successfully retrieved results for address: 1275 N Community Cir,Eagle Mountain,Utah\n",
      "Successfully retrieved results for address: 1275 N Community Cir,Eagle Mountain,Utah\n",
      "Successfully retrieved results for address: 1500 N Community Cir,Eagle Mountain,Utah\n",
      "Successfully retrieved results for address: 1725 N Community Cir,Eagle Mountain,Utah\n",
      "Successfully retrieved results for address: 1725 N Community Cir,Eagle Mountain,Utah\n",
      "Successfully retrieved results for address: 1275 N Community Cir,Eagle Mountain,Utah\n",
      "Successfully retrieved results for address: 1500 N Community Cir,Eagle Mountain,Utah\n",
      "Successfully retrieved results for address: 6200 Technology Blvd,Sandston,Virginia\n",
      "Successfully retrieved results for address: 3951 Portugee Rd,Sandston,Virginia\n",
      "Successfully retrieved results for address: High Plains Business Park,South Greeley,Wyoming\n"
     ]
    }
   ],
   "source": [
    "from google_maps_geocoder.geocoder import GoogleGeocoder\n",
    "import pandas as pd\n",
    "import os\n",
    "\n",
    "# Initialize the GoogleGeocoder\n",
    "api_key = os.getenv(\"GOOGLE_API_KEY\")\n",
    "geocoder = GoogleGeocoder(api_key)\n",
    "\n",
    "# Load the dataset\n",
    "input_data = pd.read_csv(r\"C:\\Users\\Miles.Vandenburg\\Downloads\\Meta_DataCenters.csv\")\n",
    "\n",
    "# Clean and prepare the data\n",
    "destinations, needs_geocoding = geocoder.cleanup_pd(input_data)\n",
    "\n",
    "# Perform geocoding\n",
    "if needs_geocoding:\n",
    "    final_dest_df = geocoder.geocode_addresses(destinations, needs_geocoding)\n",
    "    final_dest_df.to_csv('geocoded_results.csv', index=False)\n",
    "else:\n",
    "    print(\"Data already contains coordinates.\")\n",
    "\n",
    "# tef = geocoder.geocode_single('1099 Stewart Street,Seattle,WA')\n",
    "# # df = pd.json_normalize(tef)\n",
    "# tef\n"
   ]
  },
  {
   "cell_type": "markdown",
   "metadata": {},
   "source": [
    "# Using Signed Signature"
   ]
  },
  {
   "cell_type": "code",
   "execution_count": 1,
   "metadata": {},
   "outputs": [
    {
     "ename": "ValueError",
     "evalue": "GOOGLE_MAPS_PRIVATE_KEY is not set in the environment.",
     "output_type": "error",
     "traceback": [
      "\u001b[1;31m---------------------------------------------------------------------------\u001b[0m",
      "\u001b[1;31mValueError\u001b[0m                                Traceback (most recent call last)",
      "Cell \u001b[1;32mIn[1], line 5\u001b[0m\n\u001b[0;32m      3\u001b[0m private_key \u001b[38;5;241m=\u001b[39m os\u001b[38;5;241m.\u001b[39mgetenv(\u001b[38;5;124m\"\u001b[39m\u001b[38;5;124mGOOGLE_MAPS_PRIVATE_KEY\u001b[39m\u001b[38;5;124m\"\u001b[39m)\n\u001b[0;32m      4\u001b[0m \u001b[38;5;28;01mif\u001b[39;00m \u001b[38;5;129;01mnot\u001b[39;00m private_key:\n\u001b[1;32m----> 5\u001b[0m     \u001b[38;5;28;01mraise\u001b[39;00m \u001b[38;5;167;01mValueError\u001b[39;00m(\u001b[38;5;124m\"\u001b[39m\u001b[38;5;124mGOOGLE_MAPS_PRIVATE_KEY is not set in the environment.\u001b[39m\u001b[38;5;124m\"\u001b[39m)\n",
      "\u001b[1;31mValueError\u001b[0m: GOOGLE_MAPS_PRIVATE_KEY is not set in the environment."
     ]
    }
   ],
   "source": [
    "import os\n",
    "\n",
    "private_key = os.getenv(\"GOOGLE_MAPS_PRIVATE_KEY\")\n",
    "if not private_key:\n",
    "    raise ValueError(\"GOOGLE_MAPS_PRIVATE_KEY is not set in the environment.\")"
   ]
  },
  {
   "cell_type": "code",
   "execution_count": null,
   "metadata": {},
   "outputs": [
    {
     "name": "stdout",
     "output_type": "stream",
     "text": [
      "Original columns: Index(['Name', 'Street Address', 'City', 'State', 'Zip Code', 'Country'], dtype='object')\n",
      "Post-cleanup columns: Index(['Name', 'Street Address', 'City', 'State', 'Zip Code', 'Country',\n",
      "       'ADDRESS_FULL'],\n",
      "      dtype='object')\n",
      "            Name   Street Address           City State  Zip Code Country  \\\n",
      "0       John Doe     123 Maple St         Boston    MA      2110     USA   \n",
      "1     Jane Smith      456 Oak Ave       New York    NY     10001     USA   \n",
      "2  Alice Johnson      789 Pine Rd        Chicago    IL     60601     USA   \n",
      "3      Bob Brown   101 Birch Blvd  San Francisco    CA     94105     USA   \n",
      "4    Carol White     202 Cedar Ln    Los Angeles    CA     90001     USA   \n",
      "5    David Green       303 Elm St        Seattle    WA     98101     USA   \n",
      "6     Emily Blue    404 Walnut Dr         Denver    CO     80202     USA   \n",
      "7    Frank Black  505 Redwood Way         Austin    TX     73301     USA   \n",
      "8     Grace Pink       606 Ash St          Miami    FL     33101     USA   \n",
      "9     Henry Grey     707 Palm Ave      San Diego    CA     92101     USA   \n",
      "\n",
      "                            ADDRESS_FULL  \n",
      "0            123 Maple St,Boston,MA,2110  \n",
      "1          456 Oak Ave,New York,NY,10001  \n",
      "2           789 Pine Rd,Chicago,IL,60601  \n",
      "3  101 Birch Blvd,San Francisco,CA,94105  \n",
      "4      202 Cedar Ln,Los Angeles,CA,90001  \n",
      "5            303 Elm St,Seattle,WA,98101  \n",
      "6          404 Walnut Dr,Denver,CO,80202  \n",
      "7        505 Redwood Way,Austin,TX,73301  \n",
      "8              606 Ash St,Miami,FL,33101  \n",
      "9        707 Palm Ave,San Diego,CA,92101  \n",
      "Signed URLs have been saved to signed_urls.csv\n",
      "Google geocoding results have been saved to geocoded_results_signed_url.csv\n"
     ]
    }
   ],
   "source": [
    "# Import necessary function\n",
    "from google_maps_geocoder.geocode_signed_url import signed_url_geocode\n",
    "\n",
    "# Define parameters\n",
    "input_file = r\".\\example_address.csv\"\n",
    "output_file = 'geocoded_results_signed_url.csv'\n",
    "private_key = \"DWwe1bNM9xGWQSOLW_nBU8JRYA0=\"\n",
    "base_url = \"http://maps.googleapis.com/maps/api/geocode/json\"\n",
    "client = \"gme-cushmanwakefield\"\n",
    "channel = \"GBC\"\n",
    "# Run the script\n",
    "signed_url_geocode(input_file, output_file, private_key, base_url, client, channel)\n"
   ]
  },
  {
   "cell_type": "code",
   "execution_count": null,
   "metadata": {},
   "outputs": [],
   "source": []
  }
 ],
 "metadata": {
  "kernelspec": {
   "display_name": "Python 3",
   "language": "python",
   "name": "python3"
  },
  "language_info": {
   "codemirror_mode": {
    "name": "ipython",
    "version": 3
   },
   "file_extension": ".py",
   "mimetype": "text/x-python",
   "name": "python",
   "nbconvert_exporter": "python",
   "pygments_lexer": "ipython3",
   "version": "3.13.0"
  }
 },
 "nbformat": 4,
 "nbformat_minor": 2
}
