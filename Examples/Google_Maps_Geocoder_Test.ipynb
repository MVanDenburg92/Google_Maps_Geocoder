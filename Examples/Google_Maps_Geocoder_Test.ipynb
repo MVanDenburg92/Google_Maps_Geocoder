{
 "cells": [
  {
   "cell_type": "code",
   "execution_count": null,
   "metadata": {},
   "outputs": [
    {
     "name": "stdout",
     "output_type": "stream",
     "text": [
      "Google Geocoder API connection successful!\n"
     ]
    }
   ],
   "source": [
    "from google_maps_geocoder.geocoder import GoogleGeocoder\n",
    "import pandas as pd\n",
    "\n",
    "# Initialize the GoogleGeocoder\n",
    "api_key = \"Your_Key\"\n",
    "geocoder = GoogleGeocoder(api_key)\n",
    "\n",
    "# Load the dataset\n",
    "input_data = pd.read_csv('./example_address.csv')\n",
    "\n",
    "# Clean and prepare the data\n",
    "destinations, needs_geocoding = geocoder.cleanup_pd(input_data)\n",
    "\n",
    "# Perform geocoding\n",
    "if needs_geocoding:\n",
    "    final_dest_df = geocoder.geocode_addresses(destinations, needs_geocoding)\n",
    "    final_dest_df.to_csv('geocoded_results.csv', index=False)\n",
    "else:\n",
    "    print(\"Data already contains coordinates.\")\n"
   ]
  }
 ],
 "metadata": {
  "kernelspec": {
   "display_name": "Python 3",
   "language": "python",
   "name": "python3"
  },
  "language_info": {
   "codemirror_mode": {
    "name": "ipython",
    "version": 3
   },
   "file_extension": ".py",
   "mimetype": "text/x-python",
   "name": "python",
   "nbconvert_exporter": "python",
   "pygments_lexer": "ipython3",
   "version": "3.13.0"
  }
 },
 "nbformat": 4,
 "nbformat_minor": 2
}
